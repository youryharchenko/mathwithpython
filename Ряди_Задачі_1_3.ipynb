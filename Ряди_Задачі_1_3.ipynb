{
  "nbformat": 4,
  "nbformat_minor": 0,
  "metadata": {
    "colab": {
      "provenance": [],
      "toc_visible": true,
      "include_colab_link": true
    },
    "kernelspec": {
      "name": "python3",
      "display_name": "Python 3"
    },
    "language_info": {
      "name": "python"
    }
  },
  "cells": [
    {
      "cell_type": "markdown",
      "metadata": {
        "id": "view-in-github",
        "colab_type": "text"
      },
      "source": [
        "<a href=\"https://colab.research.google.com/github/youryharchenko/mathwithpython/blob/main/%D0%A0%D1%8F%D0%B4%D0%B8_%D0%97%D0%B0%D0%B4%D0%B0%D1%87%D1%96_1_3.ipynb\" target=\"_parent\"><img src=\"https://colab.research.google.com/assets/colab-badge.svg\" alt=\"Open In Colab\"/></a>"
      ]
    },
    {
      "cell_type": "code",
      "execution_count": null,
      "metadata": {
        "id": "FfBNxCrcI9Wl"
      },
      "outputs": [],
      "source": [
        "from sympy import Sum, symbols, oo, factorial, Limit, Abs, Eq"
      ]
    },
    {
      "cell_type": "code",
      "source": [
        "n, Sn, S, k, A, B  = symbols(\"n S_n S k A B\")"
      ],
      "metadata": {
        "id": "9gqA-RejCOxV"
      },
      "execution_count": null,
      "outputs": []
    },
    {
      "cell_type": "markdown",
      "source": [
        "## Задачі на перевірку"
      ],
      "metadata": {
        "id": "qThOosD9TAhs"
      }
    },
    {
      "cell_type": "markdown",
      "source": [
        "В наступних (1-3) задачах треба:\n",
        "\n",
        "* знайти суму $n$ перших членів ряду ($S_n$)\n",
        "* визначити збіжність ряду, користуючись тільки визначенням збіжності\n",
        "* знайти суму ряду ($S$)\n"
      ],
      "metadata": {
        "id": "ioAJxGgrVhf6"
      }
    },
    {
      "cell_type": "markdown",
      "source": [
        "### Задача 1"
      ],
      "metadata": {
        "id": "4aZEMk-Z5SAz"
      }
    },
    {
      "cell_type": "code",
      "source": [
        "Sum(1/((2*n-1)*(2*n+1)), (n, 1, oo))"
      ],
      "metadata": {
        "colab": {
          "base_uri": "https://localhost:8080/",
          "height": 66
        },
        "id": "rXauTP8PWinH",
        "outputId": "03e53205-d59e-4e1c-f710-9cfb64d24ab1"
      },
      "execution_count": null,
      "outputs": [
        {
          "output_type": "execute_result",
          "data": {
            "text/plain": [
              "Sum(1/((2*n - 1)*(2*n + 1)), (n, 1, oo))"
            ],
            "text/latex": "$\\displaystyle \\sum_{n=1}^{\\infty} \\frac{1}{\\left(2 n - 1\\right) \\left(2 n + 1\\right)}$"
          },
          "metadata": {},
          "execution_count": 22
        }
      ]
    },
    {
      "cell_type": "markdown",
      "source": [
        "### Задача 2"
      ],
      "metadata": {
        "id": "jbif8K1u7g4_"
      }
    },
    {
      "cell_type": "code",
      "source": [
        "Sum(1/(n*(n+3)), (n, 1, oo))"
      ],
      "metadata": {
        "colab": {
          "base_uri": "https://localhost:8080/",
          "height": 66
        },
        "id": "uS3JWzFq85Zp",
        "outputId": "19e82d44-5bff-45da-c910-5c4936bcb5b9"
      },
      "execution_count": null,
      "outputs": [
        {
          "output_type": "execute_result",
          "data": {
            "text/plain": [
              "Sum(1/(n*(n + 3)), (n, 1, oo))"
            ],
            "text/latex": "$\\displaystyle \\sum_{n=1}^{\\infty} \\frac{1}{n \\left(n + 3\\right)}$"
          },
          "metadata": {},
          "execution_count": 23
        }
      ]
    },
    {
      "cell_type": "markdown",
      "source": [
        "### Задача 3*"
      ],
      "metadata": {
        "id": "yUWqE0LE7inH"
      }
    },
    {
      "cell_type": "code",
      "source": [
        "Sum(1/(n*(n+1)*(n+2)), (n, 1, oo))"
      ],
      "metadata": {
        "colab": {
          "base_uri": "https://localhost:8080/",
          "height": 66
        },
        "id": "NquKwgP67kjk",
        "outputId": "e6978d4d-173d-4a64-c173-b32f58698daf"
      },
      "execution_count": null,
      "outputs": [
        {
          "output_type": "execute_result",
          "data": {
            "text/plain": [
              "Sum(1/(n*(n + 1)*(n + 2)), (n, 1, oo))"
            ],
            "text/latex": "$\\displaystyle \\sum_{n=1}^{\\infty} \\frac{1}{n \\left(n + 1\\right) \\left(n + 2\\right)}$"
          },
          "metadata": {},
          "execution_count": 24
        }
      ]
    },
    {
      "cell_type": "markdown",
      "source": [
        "### Приклад 1"
      ],
      "metadata": {
        "id": "iMjvkusJWSYR"
      }
    },
    {
      "cell_type": "markdown",
      "source": [
        "Ряд"
      ],
      "metadata": {
        "id": "9WWZhwSgquLV"
      }
    },
    {
      "cell_type": "code",
      "source": [
        "a_n = 1/(n*(n+1))\n",
        "ser = Sum(a_n, (n, 1, oo))\n",
        "ser"
      ],
      "metadata": {
        "colab": {
          "base_uri": "https://localhost:8080/",
          "height": 66
        },
        "id": "uUVwECXmYngH",
        "outputId": "a756a4e3-1a3b-4b02-de17-21b35f2424fd"
      },
      "execution_count": null,
      "outputs": [
        {
          "output_type": "execute_result",
          "data": {
            "text/plain": [
              "Sum(1/(n*(n + 1)), (n, 1, oo))"
            ],
            "text/latex": "$\\displaystyle \\sum_{n=1}^{\\infty} \\frac{1}{n \\left(n + 1\\right)}$"
          },
          "metadata": {},
          "execution_count": 25
        }
      ]
    },
    {
      "cell_type": "markdown",
      "source": [
        "#### Знаходимо суму $n$ перших членів ряду ($S_n$)"
      ],
      "metadata": {
        "id": "o1NQzTG7vZyA"
      }
    },
    {
      "cell_type": "markdown",
      "source": [
        "Часткова сума $S_n$ це сума перших n членів ряду."
      ],
      "metadata": {
        "id": "Ce7Jk2Rfcpe5"
      }
    },
    {
      "cell_type": "code",
      "source": [
        "a_k = a_n.subs({n: k})\n",
        "Eq(Sn, Sum(a_k, (k, 1, n)))"
      ],
      "metadata": {
        "colab": {
          "base_uri": "https://localhost:8080/",
          "height": 67
        },
        "id": "ex6xczaGTQ07",
        "outputId": "485d2c80-a05d-4920-e231-be9be14f016e"
      },
      "execution_count": null,
      "outputs": [
        {
          "output_type": "execute_result",
          "data": {
            "text/plain": [
              "Eq(S_n, Sum(1/(k*(k + 1)), (k, 1, n)))"
            ],
            "text/latex": "$\\displaystyle S_{n} = \\sum_{k=1}^{n} \\frac{1}{k \\left(k + 1\\right)}$"
          },
          "metadata": {},
          "execution_count": 26
        }
      ]
    },
    {
      "cell_type": "markdown",
      "source": [
        "Ключ до розв'язання цього завдання — це розкладання загального члена ряду на суму простіших дробів.\n",
        "\n",
        "Розкладемо дріб $\\frac{1}{k(k+1)}$ на два простіші дроби:"
      ],
      "metadata": {
        "id": "j2l8G6Rffi2_"
      }
    },
    {
      "cell_type": "code",
      "source": [
        "Eq(a_k, A/k + B/(k+1))"
      ],
      "metadata": {
        "colab": {
          "base_uri": "https://localhost:8080/",
          "height": 56
        },
        "id": "UtCxCicofnFf",
        "outputId": "e67b8bd0-677c-404d-9662-83a9a650f6fe"
      },
      "execution_count": null,
      "outputs": [
        {
          "output_type": "execute_result",
          "data": {
            "text/plain": [
              "Eq(1/(k*(k + 1)), A/k + B/(k + 1))"
            ],
            "text/latex": "$\\displaystyle \\frac{1}{k \\left(k + 1\\right)} = \\frac{A}{k} + \\frac{B}{k + 1}$"
          },
          "metadata": {},
          "execution_count": 27
        }
      ]
    },
    {
      "cell_type": "markdown",
      "source": [
        "Щоб знайти константи A і B, зведемо праву частину до спільного знаменника:"
      ],
      "metadata": {
        "id": "Z38dh3jQkW1d"
      }
    },
    {
      "cell_type": "code",
      "source": [
        "Eq((A*(k+1)+B*k)/(k*(k+1)), ((k*(A+B)+A)/(k*(k+1))))"
      ],
      "metadata": {
        "colab": {
          "base_uri": "https://localhost:8080/",
          "height": 57
        },
        "id": "7pWl0cKHkbQZ",
        "outputId": "7301b045-2736-4585-bc15-839bd9823754"
      },
      "execution_count": null,
      "outputs": [
        {
          "output_type": "execute_result",
          "data": {
            "text/plain": [
              "Eq((A*(k + 1) + B*k)/(k*(k + 1)), (A + k*(A + B))/(k*(k + 1)))"
            ],
            "text/latex": "$\\displaystyle \\frac{A \\left(k + 1\\right) + B k}{k \\left(k + 1\\right)} = \\frac{A + k \\left(A + B\\right)}{k \\left(k + 1\\right)}$"
          },
          "metadata": {},
          "execution_count": 28
        }
      ]
    },
    {
      "cell_type": "markdown",
      "source": [
        "Порівнюючи чисельники, ми отримуємо систему рівнянь:\n",
        "\n",
        "* $A+B=0$ (коефіцієнт при k)\n",
        "* $A=1$ (вільний член)\n",
        "\n",
        "Звідси, $A=1$ і $B=−1$.\n",
        "\n",
        "Отже, загальний член ряду можна представити як:"
      ],
      "metadata": {
        "id": "SwQj9codpwsu"
      }
    },
    {
      "cell_type": "code",
      "source": [
        "a_k_2 = 1/k - 1/(k+1)\n",
        "Eq(a_k, a_k_2)"
      ],
      "metadata": {
        "colab": {
          "base_uri": "https://localhost:8080/",
          "height": 55
        },
        "id": "EtcwrLpgqFcw",
        "outputId": "3a67e25f-6b31-43f0-ef92-ded61977e45b"
      },
      "execution_count": null,
      "outputs": [
        {
          "output_type": "execute_result",
          "data": {
            "text/plain": [
              "Eq(1/(k*(k + 1)), -1/(k + 1) + 1/k)"
            ],
            "text/latex": "$\\displaystyle \\frac{1}{k \\left(k + 1\\right)} = - \\frac{1}{k + 1} + \\frac{1}{k}$"
          },
          "metadata": {},
          "execution_count": 29
        }
      ]
    },
    {
      "cell_type": "markdown",
      "source": [
        "Тепер підставимо цей розкладений вираз у формулу часткової суми $S_n$:"
      ],
      "metadata": {
        "id": "K8gHFLqlqp4D"
      }
    },
    {
      "cell_type": "code",
      "source": [
        "Eq(Sn, Sum(a_k_2, (k, 1, n)))"
      ],
      "metadata": {
        "colab": {
          "base_uri": "https://localhost:8080/",
          "height": 67
        },
        "id": "AbY8tA_1rIn_",
        "outputId": "6b277387-f3b9-4577-bcb2-f2fbb317df8b"
      },
      "execution_count": null,
      "outputs": [
        {
          "output_type": "execute_result",
          "data": {
            "text/plain": [
              "Eq(S_n, Sum(-1/(k + 1) + 1/k, (k, 1, n)))"
            ],
            "text/latex": "$\\displaystyle S_{n} = \\sum_{k=1}^{n} \\left(- \\frac{1}{k + 1} + \\frac{1}{k}\\right)$"
          },
          "metadata": {},
          "execution_count": 30
        }
      ]
    },
    {
      "cell_type": "markdown",
      "source": [
        "Розпишемо суму і побачимо, що проміжні доданки скорочуються:\n",
        "\n",
        "$$S_n=(1-1/2)+(1/2-1/3)+(1/3-1/4)+...+(1/n-1/(n+1)) $$\n",
        "\n",
        "Залишаються лише перший і останній.\n"
      ],
      "metadata": {
        "id": "kBiSwp6DshFk"
      }
    },
    {
      "cell_type": "code",
      "source": [
        "S_n = 1-1/(n+1)\n",
        "Eq(Sn, S_n)"
      ],
      "metadata": {
        "colab": {
          "base_uri": "https://localhost:8080/",
          "height": 52
        },
        "id": "1hoG5wOHue71",
        "outputId": "3d5e4c51-e5c3-4a36-e806-676447abc6d3"
      },
      "execution_count": null,
      "outputs": [
        {
          "output_type": "execute_result",
          "data": {
            "text/plain": [
              "Eq(S_n, 1 - 1/(n + 1))"
            ],
            "text/latex": "$\\displaystyle S_{n} = 1 - \\frac{1}{n + 1}$"
          },
          "metadata": {},
          "execution_count": 31
        }
      ]
    },
    {
      "cell_type": "markdown",
      "source": [
        "#### Визначаємо збіжність ряду, користуючись тільки визначенням збіжності"
      ],
      "metadata": {
        "id": "0cYPX2-XxKPc"
      }
    },
    {
      "cell_type": "markdown",
      "source": [
        "Згідно з визначенням, ряд збігається, якщо послідовність його часткових сум має скінченну границю при $n\\to\\infty$. Знайдемо границю $S_n$."
      ],
      "metadata": {
        "id": "eepiyo-dxQJO"
      }
    },
    {
      "cell_type": "code",
      "source": [
        "lim_S_n = Limit(S_n, n, oo)\n",
        "Eq(Limit(Sn, n, oo) , lim_S_n)"
      ],
      "metadata": {
        "colab": {
          "base_uri": "https://localhost:8080/",
          "height": 58
        },
        "id": "9KucLmlkx9X7",
        "outputId": "7d554463-0bd9-4f6c-d9c8-28ac2088a1b1"
      },
      "execution_count": null,
      "outputs": [
        {
          "output_type": "execute_result",
          "data": {
            "text/plain": [
              "Eq(Limit(S_n, n, oo, dir='-'), Limit(1 - 1/(n + 1), n, oo, dir='-'))"
            ],
            "text/latex": "$\\displaystyle \\lim_{n \\to \\infty} S_{n} = \\lim_{n \\to \\infty}\\left(1 - \\frac{1}{n + 1}\\right)$"
          },
          "metadata": {},
          "execution_count": 32
        }
      ]
    },
    {
      "cell_type": "markdown",
      "source": [
        "Оскільки $\\lim_{n\\to\\infty}(\\frac{1}{n+1})=0$, то границя часткової суми дорівнює: $1-0 = 1$"
      ],
      "metadata": {
        "id": "TgIixMxizLeH"
      }
    },
    {
      "cell_type": "code",
      "source": [
        "lim_S_n.doit()"
      ],
      "metadata": {
        "colab": {
          "base_uri": "https://localhost:8080/",
          "height": 37
        },
        "id": "kKDrySLR0Kj-",
        "outputId": "8997de42-47b5-4273-e946-150e5f4dec0b"
      },
      "execution_count": null,
      "outputs": [
        {
          "output_type": "execute_result",
          "data": {
            "text/plain": [
              "1"
            ],
            "text/latex": "$\\displaystyle 1$"
          },
          "metadata": {},
          "execution_count": 33
        }
      ]
    },
    {
      "cell_type": "markdown",
      "source": [
        "Послідовність часткових сум $S_n$ має скінченну границю, яка дорівнює $1$, то за визначенням ряд збігається."
      ],
      "metadata": {
        "id": "B3r7Bx2E0UTY"
      }
    },
    {
      "cell_type": "markdown",
      "source": [
        "#### Знаходимо суму ряду ($S$)"
      ],
      "metadata": {
        "id": "LL4UDiIs1as2"
      }
    },
    {
      "cell_type": "markdown",
      "source": [
        "Якщо потрібно знайти суму всього ряду (при $n→∞$), ми обчислюємо границю часткової суми:"
      ],
      "metadata": {
        "id": "p5tIziws1znS"
      }
    },
    {
      "cell_type": "code",
      "source": [
        "lim_S_n = Limit(S_n, n, oo)\n",
        "Eq(S, lim_S_n)"
      ],
      "metadata": {
        "colab": {
          "base_uri": "https://localhost:8080/",
          "height": 58
        },
        "outputId": "44e8c24c-b255-4de0-eb9b-e36ef28723e5",
        "id": "xBuVM5bF2eO2"
      },
      "execution_count": null,
      "outputs": [
        {
          "output_type": "execute_result",
          "data": {
            "text/plain": [
              "Eq(S, Limit(1 - 1/(n + 1), n, oo, dir='-'))"
            ],
            "text/latex": "$\\displaystyle S = \\lim_{n \\to \\infty}\\left(1 - \\frac{1}{n + 1}\\right)$"
          },
          "metadata": {},
          "execution_count": 34
        }
      ]
    },
    {
      "cell_type": "markdown",
      "source": [
        "Оскільки $\\lim_{n→∞}\\frac{1}{n+1}=0$, то границя часткової суми дорівнює: 1−0=1.\n",
        "\n",
        "Таким чином, сума всього ряду дорівнює 1.\n",
        "\n",
        "Цей ряд є збіжним."
      ],
      "metadata": {
        "id": "a54O_fgv4Bjm"
      }
    },
    {
      "cell_type": "code",
      "source": [
        "ser.doit()"
      ],
      "metadata": {
        "colab": {
          "base_uri": "https://localhost:8080/",
          "height": 37
        },
        "id": "JtwEoi_S4tTz",
        "outputId": "5a160bac-0014-4b2d-9ef8-75f35a484429"
      },
      "execution_count": null,
      "outputs": [
        {
          "output_type": "execute_result",
          "data": {
            "text/plain": [
              "1"
            ],
            "text/latex": "$\\displaystyle 1$"
          },
          "metadata": {},
          "execution_count": 35
        }
      ]
    }
  ]
}