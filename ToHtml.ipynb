{
  "nbformat": 4,
  "nbformat_minor": 0,
  "metadata": {
    "colab": {
      "provenance": [],
      "include_colab_link": true
    },
    "kernelspec": {
      "name": "python3",
      "display_name": "Python 3"
    },
    "language_info": {
      "name": "python"
    }
  },
  "cells": [
    {
      "cell_type": "markdown",
      "metadata": {
        "id": "view-in-github",
        "colab_type": "text"
      },
      "source": [
        "<a href=\"https://colab.research.google.com/github/youryharchenko/mathwithpython/blob/main/ToHtml.ipynb\" target=\"_parent\"><img src=\"https://colab.research.google.com/assets/colab-badge.svg\" alt=\"Open In Colab\"/></a>"
      ]
    },
    {
      "cell_type": "markdown",
      "source": [
        "## Конвертація в HTML"
      ],
      "metadata": {
        "id": "UXPBTSY_ngKy"
      }
    },
    {
      "cell_type": "code",
      "source": [
        "# 1. Підключіть ваш Google Drive, щоб отримати доступ до файлу\n",
        "from google.colab import drive\n",
        "drive.mount('/content/drive')"
      ],
      "metadata": {
        "colab": {
          "base_uri": "https://localhost:8080/"
        },
        "id": "l7KzyfI2wp9m",
        "outputId": "2447bc1d-bf55-4234-a29f-d1b67feaf49c"
      },
      "execution_count": null,
      "outputs": [
        {
          "output_type": "stream",
          "name": "stdout",
          "text": [
            "Mounted at /content/drive\n"
          ]
        }
      ]
    },
    {
      "cell_type": "code",
      "source": [
        "def to_html(name):\n",
        "  notebook_path = f\"/content/drive/MyDrive/Colab Notebooks/{name}.ipynb\"\n",
        "  !jupyter nbconvert \"{notebook_path}\" --to html\n",
        "  print(\"\\nКонвертація завершена! Шукайте HTML-файл на вашому Google Диску.\")"
      ],
      "metadata": {
        "id": "Pxq15D6C0Vdl"
      },
      "execution_count": null,
      "outputs": []
    },
    {
      "cell_type": "code",
      "source": [
        "to_html(\"Ряди.Задачі.1-3\")"
      ],
      "metadata": {
        "colab": {
          "base_uri": "https://localhost:8080/"
        },
        "id": "-m3s02KS3lD-",
        "outputId": "470bfd58-2fb1-4141-8328-8dd9fa207766"
      },
      "execution_count": null,
      "outputs": [
        {
          "output_type": "stream",
          "name": "stdout",
          "text": [
            "[NbConvertApp] Converting notebook /content/drive/MyDrive/Colab Notebooks/Ряди.Задачі.1-3.ipynb to html\n",
            "[NbConvertApp] Writing 304545 bytes to /content/drive/MyDrive/Colab Notebooks/Ряди.Задачі.1-3.html\n",
            "\n",
            "Конвертація завершена! Шукайте HTML-файл на вашому Google Диску.\n"
          ]
        }
      ]
    },
    {
      "cell_type": "code",
      "source": [
        "to_html(\"Ряди.Задачі.4-6\")"
      ],
      "metadata": {
        "colab": {
          "base_uri": "https://localhost:8080/"
        },
        "id": "NbWuTo9F3WBD",
        "outputId": "7cbd4d7f-0b7a-43e9-fdf5-5b561e94c898"
      },
      "execution_count": null,
      "outputs": [
        {
          "output_type": "stream",
          "name": "stdout",
          "text": [
            "[NbConvertApp] Converting notebook /content/drive/MyDrive/Colab Notebooks/Ряди.Задачі.4-6.ipynb to html\n",
            "[NbConvertApp] Writing 292041 bytes to /content/drive/MyDrive/Colab Notebooks/Ряди.Задачі.4-6.html\n",
            "\n",
            "Конвертація завершена! Шукайте HTML-файл на вашому Google Диску.\n"
          ]
        }
      ]
    }
  ]
}