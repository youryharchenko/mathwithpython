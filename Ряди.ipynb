{
  "nbformat": 4,
  "nbformat_minor": 0,
  "metadata": {
    "colab": {
      "provenance": [],
      "toc_visible": true,
      "include_colab_link": true
    },
    "kernelspec": {
      "name": "python3",
      "display_name": "Python 3"
    },
    "language_info": {
      "name": "python"
    }
  },
  "cells": [
    {
      "cell_type": "markdown",
      "metadata": {
        "id": "view-in-github",
        "colab_type": "text"
      },
      "source": [
        "<a href=\"https://colab.research.google.com/github/youryharchenko/mathwithpython/blob/main/%D0%A0%D1%8F%D0%B4%D0%B8.ipynb\" target=\"_parent\"><img src=\"https://colab.research.google.com/assets/colab-badge.svg\" alt=\"Open In Colab\"/></a>"
      ]
    },
    {
      "cell_type": "code",
      "execution_count": null,
      "metadata": {
        "id": "FfBNxCrcI9Wl"
      },
      "outputs": [],
      "source": [
        "from sympy import Sum, symbols, oo, factorial, Limit, Abs, Eq"
      ]
    },
    {
      "cell_type": "code",
      "source": [
        "n = symbols('n', integer=True)"
      ],
      "metadata": {
        "id": "m5Yd-jyCPJH9"
      },
      "execution_count": null,
      "outputs": []
    },
    {
      "cell_type": "markdown",
      "source": [
        "## Task 0"
      ],
      "metadata": {
        "id": "JxX3kvgqPx2M"
      }
    },
    {
      "cell_type": "code",
      "source": [
        "series0 = Sum(1/n, (n, 1, oo))\n",
        "series0"
      ],
      "metadata": {
        "colab": {
          "base_uri": "https://localhost:8080/",
          "height": 66
        },
        "id": "KnhmPle4PooR",
        "outputId": "f0136e8e-a780-4785-82cd-f26846e2a68f"
      },
      "execution_count": null,
      "outputs": [
        {
          "output_type": "execute_result",
          "data": {
            "text/plain": [
              "Sum(1/n, (n, 1, oo))"
            ],
            "text/latex": "$\\displaystyle \\sum_{n=1}^{\\infty} \\frac{1}{n}$"
          },
          "metadata": {},
          "execution_count": 46
        }
      ]
    },
    {
      "cell_type": "code",
      "source": [
        "series0.doit()"
      ],
      "metadata": {
        "colab": {
          "base_uri": "https://localhost:8080/",
          "height": 37
        },
        "id": "NrKzHgrwP5l2",
        "outputId": "2991feec-319b-4007-82fd-a77eddaeb846"
      },
      "execution_count": null,
      "outputs": [
        {
          "output_type": "execute_result",
          "data": {
            "text/plain": [
              "oo"
            ],
            "text/latex": "$\\displaystyle \\infty$"
          },
          "metadata": {},
          "execution_count": 47
        }
      ]
    },
    {
      "cell_type": "code",
      "source": [
        "series0.is_convergent()"
      ],
      "metadata": {
        "colab": {
          "base_uri": "https://localhost:8080/",
          "height": 37
        },
        "id": "9q0Sg_3DQK_I",
        "outputId": "4ca4a4e3-73a0-454f-84c2-29f201b87b1d"
      },
      "execution_count": null,
      "outputs": [
        {
          "output_type": "execute_result",
          "data": {
            "text/plain": [
              "False"
            ],
            "text/latex": "$\\displaystyle \\text{False}$"
          },
          "metadata": {},
          "execution_count": 50
        }
      ]
    },
    {
      "cell_type": "markdown",
      "source": [
        "## Task 1"
      ],
      "metadata": {
        "id": "dh0gV5Pnc1dC"
      }
    },
    {
      "cell_type": "code",
      "source": [
        "series1 = Sum(1/n**2, (n, 1, oo))\n",
        "series1"
      ],
      "metadata": {
        "colab": {
          "base_uri": "https://localhost:8080/",
          "height": 66
        },
        "id": "oafhEfIpLHRF",
        "outputId": "8dc03ba0-f2d6-4a25-bba8-fe62b7582474"
      },
      "execution_count": null,
      "outputs": [
        {
          "output_type": "execute_result",
          "data": {
            "text/plain": [
              "Sum(n**(-2), (n, 1, oo))"
            ],
            "text/latex": "$\\displaystyle \\sum_{n=1}^{\\infty} \\frac{1}{n^{2}}$"
          },
          "metadata": {},
          "execution_count": 45
        }
      ]
    },
    {
      "cell_type": "code",
      "source": [
        "series1.doit()"
      ],
      "metadata": {
        "colab": {
          "base_uri": "https://localhost:8080/",
          "height": 54
        },
        "id": "myw46byXPO5i",
        "outputId": "5257cc71-3582-433c-a7ac-ff9d89a6f77c"
      },
      "execution_count": null,
      "outputs": [
        {
          "output_type": "execute_result",
          "data": {
            "text/plain": [
              "pi**2/6"
            ],
            "text/latex": "$\\displaystyle \\frac{\\pi^{2}}{6}$"
          },
          "metadata": {},
          "execution_count": 43
        }
      ]
    },
    {
      "cell_type": "code",
      "source": [
        "series1.is_convergent()"
      ],
      "metadata": {
        "colab": {
          "base_uri": "https://localhost:8080/",
          "height": 37
        },
        "id": "gKmS3TEVLiVg",
        "outputId": "b8f42bec-ac8b-42d4-effe-8b550fecbca0"
      },
      "execution_count": null,
      "outputs": [
        {
          "output_type": "execute_result",
          "data": {
            "text/plain": [
              "True"
            ],
            "text/latex": "$\\displaystyle \\text{True}$"
          },
          "metadata": {},
          "execution_count": 3
        }
      ]
    },
    {
      "cell_type": "markdown",
      "source": [
        "### Даламбер"
      ],
      "metadata": {
        "id": "pKW6BXvvchF3"
      }
    },
    {
      "cell_type": "code",
      "source": [
        "lim1d = Limit((1/(n + 1)**2)/(1/n**2), n, oo)\n",
        "lim1d"
      ],
      "metadata": {
        "colab": {
          "base_uri": "https://localhost:8080/",
          "height": 68
        },
        "id": "fnlLICRqNivu",
        "outputId": "7b878392-0013-4042-83b0-418a2c623859"
      },
      "execution_count": null,
      "outputs": [
        {
          "output_type": "execute_result",
          "data": {
            "text/plain": [
              "Limit(n**2/(n + 1)**2, n, oo, dir='-')"
            ],
            "text/latex": "$\\displaystyle \\lim_{n \\to \\infty}\\left(\\frac{n^{2}}{\\left(n + 1\\right)^{2}}\\right)$"
          },
          "metadata": {},
          "execution_count": 4
        }
      ]
    },
    {
      "cell_type": "code",
      "source": [
        "lim1d.doit()"
      ],
      "metadata": {
        "colab": {
          "base_uri": "https://localhost:8080/",
          "height": 37
        },
        "id": "jIjeAWwOO1jS",
        "outputId": "3a181ad9-2b74-462e-ca1c-ec82f9f8d7cf"
      },
      "execution_count": null,
      "outputs": [
        {
          "output_type": "execute_result",
          "data": {
            "text/plain": [
              "1"
            ],
            "text/latex": "$\\displaystyle 1$"
          },
          "metadata": {},
          "execution_count": 5
        }
      ]
    },
    {
      "cell_type": "markdown",
      "source": [
        "### Коші"
      ],
      "metadata": {
        "id": "9q9iE_g7dDpB"
      }
    },
    {
      "cell_type": "code",
      "source": [
        "lim1c = Limit((1/n**2)**(1/n), n, oo)\n",
        "lim1c"
      ],
      "metadata": {
        "colab": {
          "base_uri": "https://localhost:8080/",
          "height": 47
        },
        "id": "S-husIgsP_Xo",
        "outputId": "c39b9c6c-93bd-4a7f-df2f-828d24c55aa7"
      },
      "execution_count": null,
      "outputs": [
        {
          "output_type": "execute_result",
          "data": {
            "text/plain": [
              "Limit(Abs(n)**(-2/n), n, oo, dir='-')"
            ],
            "text/latex": "$\\displaystyle \\lim_{n \\to \\infty} \\left|{n}\\right|^{- \\frac{2}{n}}$"
          },
          "metadata": {},
          "execution_count": 6
        }
      ]
    },
    {
      "cell_type": "code",
      "source": [
        "lim1c.doit()"
      ],
      "metadata": {
        "colab": {
          "base_uri": "https://localhost:8080/",
          "height": 37
        },
        "id": "sl5Lk3hgQ4Tj",
        "outputId": "f1a08b16-6d30-4a8f-dd4b-df48ec090c94"
      },
      "execution_count": null,
      "outputs": [
        {
          "output_type": "execute_result",
          "data": {
            "text/plain": [
              "1"
            ],
            "text/latex": "$\\displaystyle 1$"
          },
          "metadata": {},
          "execution_count": 7
        }
      ]
    },
    {
      "cell_type": "markdown",
      "source": [
        "### Раабе-Дюамель"
      ],
      "metadata": {
        "id": "SJF-kT9hdR-g"
      }
    },
    {
      "cell_type": "code",
      "source": [
        "lim1rd = Limit(n*((1/n**2)/(1/(n + 1)**2) - 1), n, oo)\n",
        "lim1rd"
      ],
      "metadata": {
        "colab": {
          "base_uri": "https://localhost:8080/",
          "height": 68
        },
        "id": "Xfg_TSzwa434",
        "outputId": "9752943a-d747-45e5-d707-dbf5282b9a78"
      },
      "execution_count": null,
      "outputs": [
        {
          "output_type": "execute_result",
          "data": {
            "text/plain": [
              "Limit(n*(-1 + (n + 1)**2/n**2), n, oo, dir='-')"
            ],
            "text/latex": "$\\displaystyle \\lim_{n \\to \\infty}\\left(n \\left(-1 + \\frac{\\left(n + 1\\right)^{2}}{n^{2}}\\right)\\right)$"
          },
          "metadata": {},
          "execution_count": 8
        }
      ]
    },
    {
      "cell_type": "code",
      "source": [
        "lim1rd.doit()"
      ],
      "metadata": {
        "colab": {
          "base_uri": "https://localhost:8080/",
          "height": 37
        },
        "id": "p6USdLdwbb3x",
        "outputId": "b1a1ee8f-4361-4a69-fe29-e66ad5aaa685"
      },
      "execution_count": null,
      "outputs": [
        {
          "output_type": "execute_result",
          "data": {
            "text/plain": [
              "2"
            ],
            "text/latex": "$\\displaystyle 2$"
          },
          "metadata": {},
          "execution_count": 9
        }
      ]
    },
    {
      "cell_type": "markdown",
      "source": [
        "## Task 2"
      ],
      "metadata": {
        "id": "8P3GteyVc9iR"
      }
    },
    {
      "cell_type": "code",
      "source": [
        "series2 = Sum(2**n/factorial(n), (n, 1, oo))\n",
        "series2"
      ],
      "metadata": {
        "colab": {
          "base_uri": "https://localhost:8080/",
          "height": 66
        },
        "id": "7gTygjzBMalq",
        "outputId": "05f55ebc-5b82-4a80-d6dd-c3b8224dd030"
      },
      "execution_count": null,
      "outputs": [
        {
          "output_type": "execute_result",
          "data": {
            "text/plain": [
              "Sum(2**n/factorial(n), (n, 1, oo))"
            ],
            "text/latex": "$\\displaystyle \\sum_{n=1}^{\\infty} \\frac{2^{n}}{n!}$"
          },
          "metadata": {},
          "execution_count": 10
        }
      ]
    },
    {
      "cell_type": "code",
      "source": [
        "series2.is_convergent()"
      ],
      "metadata": {
        "colab": {
          "base_uri": "https://localhost:8080/",
          "height": 37
        },
        "id": "PO79j_vUM-OD",
        "outputId": "088a2dbd-4a07-41d2-8dfa-6fc109b2735c"
      },
      "execution_count": null,
      "outputs": [
        {
          "output_type": "execute_result",
          "data": {
            "text/plain": [
              "True"
            ],
            "text/latex": "$\\displaystyle \\text{True}$"
          },
          "metadata": {},
          "execution_count": 11
        }
      ]
    },
    {
      "cell_type": "markdown",
      "source": [
        "### Даламбер"
      ],
      "metadata": {
        "id": "nFZVVYEdcwSk"
      }
    },
    {
      "cell_type": "code",
      "source": [
        "lim2d = Limit((2**(n+1)/factorial(n+1))/(2**n/factorial(n)), n, oo)\n",
        "lim2d"
      ],
      "metadata": {
        "colab": {
          "base_uri": "https://localhost:8080/",
          "height": 58
        },
        "id": "SzL9VXQzY-zp",
        "outputId": "d0ea362e-797e-450b-9c0a-00f9487e4255"
      },
      "execution_count": null,
      "outputs": [
        {
          "output_type": "execute_result",
          "data": {
            "text/plain": [
              "Limit(2**(n + 1)*factorial(n)/(2**n*factorial(n + 1)), n, oo, dir='-')"
            ],
            "text/latex": "$\\displaystyle \\lim_{n \\to \\infty}\\left(\\frac{2^{- n} 2^{n + 1} n!}{\\left(n + 1\\right)!}\\right)$"
          },
          "metadata": {},
          "execution_count": 12
        }
      ]
    },
    {
      "cell_type": "code",
      "source": [
        "(((2**-n*2**(n+1))*factorial(n))/factorial(n+1)).simplify()"
      ],
      "metadata": {
        "colab": {
          "base_uri": "https://localhost:8080/",
          "height": 52
        },
        "id": "mvkxROIceCCr",
        "outputId": "4e535349-e9ba-4701-88c9-21815f8685ab"
      },
      "execution_count": null,
      "outputs": [
        {
          "output_type": "execute_result",
          "data": {
            "text/plain": [
              "2/(n + 1)"
            ],
            "text/latex": "$\\displaystyle \\frac{2}{n + 1}$"
          },
          "metadata": {},
          "execution_count": 13
        }
      ]
    },
    {
      "cell_type": "code",
      "source": [
        "lim2d.doit()"
      ],
      "metadata": {
        "colab": {
          "base_uri": "https://localhost:8080/",
          "height": 37
        },
        "id": "e8bkA0_fZVtD",
        "outputId": "d1bd9a05-531d-4d04-c8a0-b9b7c5181d31"
      },
      "execution_count": null,
      "outputs": [
        {
          "output_type": "execute_result",
          "data": {
            "text/plain": [
              "0"
            ],
            "text/latex": "$\\displaystyle 0$"
          },
          "metadata": {},
          "execution_count": 14
        }
      ]
    },
    {
      "cell_type": "markdown",
      "source": [
        "### Коші"
      ],
      "metadata": {
        "id": "vvAhpOFXdOAL"
      }
    },
    {
      "cell_type": "code",
      "source": [
        "lim2c = Limit((2**n/factorial(n))**(1/n), n, oo)\n",
        "lim2c"
      ],
      "metadata": {
        "colab": {
          "base_uri": "https://localhost:8080/",
          "height": 63
        },
        "id": "VUNvCYd-ZuzU",
        "outputId": "f9413bf0-d3ee-41b5-feba-f5a81e099e30"
      },
      "execution_count": null,
      "outputs": [
        {
          "output_type": "execute_result",
          "data": {
            "text/plain": [
              "Limit((2**n/factorial(n))**(1/n), n, oo, dir='-')"
            ],
            "text/latex": "$\\displaystyle \\lim_{n \\to \\infty} \\left(\\frac{2^{n}}{n!}\\right)^{\\frac{1}{n}}$"
          },
          "metadata": {},
          "execution_count": 15
        }
      ]
    },
    {
      "cell_type": "code",
      "source": [
        "lim2c.doit()"
      ],
      "metadata": {
        "colab": {
          "base_uri": "https://localhost:8080/",
          "height": 37
        },
        "id": "Yl9WZypzZunk",
        "outputId": "df2559c9-7e4a-4250-805d-4f9e54411c99"
      },
      "execution_count": null,
      "outputs": [
        {
          "output_type": "execute_result",
          "data": {
            "text/plain": [
              "0"
            ],
            "text/latex": "$\\displaystyle 0$"
          },
          "metadata": {},
          "execution_count": 16
        }
      ]
    },
    {
      "cell_type": "markdown",
      "source": [
        "## Task 3"
      ],
      "metadata": {
        "id": "mbgFwLPuhvg8"
      }
    },
    {
      "cell_type": "code",
      "source": [
        "series3 = Sum(n**2/2**n, (n, 1, oo))\n",
        "series3"
      ],
      "metadata": {
        "colab": {
          "base_uri": "https://localhost:8080/",
          "height": 66
        },
        "id": "VP50ckxsho_U",
        "outputId": "932359f5-90d0-474f-e1c4-fa7136984956"
      },
      "execution_count": null,
      "outputs": [
        {
          "output_type": "execute_result",
          "data": {
            "text/plain": [
              "Sum(n**2/2**n, (n, 1, oo))"
            ],
            "text/latex": "$\\displaystyle \\sum_{n=1}^{\\infty} 2^{- n} n^{2}$"
          },
          "metadata": {},
          "execution_count": 17
        }
      ]
    },
    {
      "cell_type": "code",
      "source": [
        "series3.is_convergent()"
      ],
      "metadata": {
        "colab": {
          "base_uri": "https://localhost:8080/",
          "height": 37
        },
        "id": "rn-Z7fOgiLy6",
        "outputId": "04b44291-b4f1-4abd-d89e-14bdf41f9d5a"
      },
      "execution_count": null,
      "outputs": [
        {
          "output_type": "execute_result",
          "data": {
            "text/plain": [
              "True"
            ],
            "text/latex": "$\\displaystyle \\text{True}$"
          },
          "metadata": {},
          "execution_count": 18
        }
      ]
    },
    {
      "cell_type": "markdown",
      "source": [
        "### Даламбер"
      ],
      "metadata": {
        "id": "LnG1kS_MiQTE"
      }
    },
    {
      "cell_type": "code",
      "source": [
        "lim3d = Limit(((n+1)**2/2**(n+1)/(n**2/2**n)), n, oo)\n",
        "lim3d"
      ],
      "metadata": {
        "colab": {
          "base_uri": "https://localhost:8080/",
          "height": 68
        },
        "id": "VAxpdzifiRzs",
        "outputId": "f2c98065-10ed-48f5-9eba-6426ea5ae98a"
      },
      "execution_count": null,
      "outputs": [
        {
          "output_type": "execute_result",
          "data": {
            "text/plain": [
              "Limit(2**n*2**(-n - 1)*(n + 1)**2/n**2, n, oo, dir='-')"
            ],
            "text/latex": "$\\displaystyle \\lim_{n \\to \\infty}\\left(\\frac{2^{n} 2^{- n - 1} \\left(n + 1\\right)^{2}}{n^{2}}\\right)$"
          },
          "metadata": {},
          "execution_count": 19
        }
      ]
    },
    {
      "cell_type": "code",
      "source": [
        "((n+1)**2/2**(n+1)/(n**2/2**n)).simplify()"
      ],
      "metadata": {
        "colab": {
          "base_uri": "https://localhost:8080/",
          "height": 56
        },
        "id": "mJFS3sBKjyxo",
        "outputId": "c838c2eb-fde4-40fc-9512-dffb4359f8f7"
      },
      "execution_count": null,
      "outputs": [
        {
          "output_type": "execute_result",
          "data": {
            "text/plain": [
              "(n + 1)**2/(2*n**2)"
            ],
            "text/latex": "$\\displaystyle \\frac{\\left(n + 1\\right)^{2}}{2 n^{2}}$"
          },
          "metadata": {},
          "execution_count": 20
        }
      ]
    },
    {
      "cell_type": "code",
      "source": [
        "(n**2 + 2*n + 1)/(2*n**2)"
      ],
      "metadata": {
        "colab": {
          "base_uri": "https://localhost:8080/",
          "height": 54
        },
        "id": "Ct5kuKnIpZed",
        "outputId": "ba1911c8-0c42-4344-9b6a-0def48e8fa36"
      },
      "execution_count": null,
      "outputs": [
        {
          "output_type": "execute_result",
          "data": {
            "text/plain": [
              "(n**2 + 2*n + 1)/(2*n**2)"
            ],
            "text/latex": "$\\displaystyle \\frac{n^{2} + 2 n + 1}{2 n^{2}}$"
          },
          "metadata": {},
          "execution_count": 21
        }
      ]
    },
    {
      "cell_type": "code",
      "source": [
        "(n**2) / (2*n**2) + (2*n) / (2*n**2) + 1 / (2*n**2)"
      ],
      "metadata": {
        "colab": {
          "base_uri": "https://localhost:8080/",
          "height": 51
        },
        "id": "vQQaFD63l3oA",
        "outputId": "65cae864-149a-4ad2-e1a9-3d945a39f51e"
      },
      "execution_count": null,
      "outputs": [
        {
          "output_type": "execute_result",
          "data": {
            "text/plain": [
              "1/2 + 1/n + 1/(2*n**2)"
            ],
            "text/latex": "$\\displaystyle \\frac{1}{2} + \\frac{1}{n} + \\frac{1}{2 n^{2}}$"
          },
          "metadata": {},
          "execution_count": 22
        }
      ]
    },
    {
      "cell_type": "code",
      "source": [
        "lim3d.doit()"
      ],
      "metadata": {
        "colab": {
          "base_uri": "https://localhost:8080/",
          "height": 51
        },
        "id": "fyqoPPs-kxWA",
        "outputId": "f62e31e0-26e8-4b31-f183-f083a15178a5"
      },
      "execution_count": null,
      "outputs": [
        {
          "output_type": "execute_result",
          "data": {
            "text/plain": [
              "1/2"
            ],
            "text/latex": "$\\displaystyle \\frac{1}{2}$"
          },
          "metadata": {},
          "execution_count": 23
        }
      ]
    },
    {
      "cell_type": "markdown",
      "source": [
        "### Коші"
      ],
      "metadata": {
        "id": "dxWROE3Ip2pw"
      }
    },
    {
      "cell_type": "code",
      "source": [
        "lim3c = Limit((n**2/2**n)**(1/n), n, oo)\n",
        "lim3c"
      ],
      "metadata": {
        "colab": {
          "base_uri": "https://localhost:8080/",
          "height": 49
        },
        "id": "zH3PoYeOp2KW",
        "outputId": "109cb987-8430-45df-ecbd-40e20babb29d"
      },
      "execution_count": null,
      "outputs": [
        {
          "output_type": "execute_result",
          "data": {
            "text/plain": [
              "Limit((n**2/2**n)**(1/n), n, oo, dir='-')"
            ],
            "text/latex": "$\\displaystyle \\lim_{n \\to \\infty} \\left(2^{- n} n^{2}\\right)^{\\frac{1}{n}}$"
          },
          "metadata": {},
          "execution_count": 24
        }
      ]
    },
    {
      "cell_type": "markdown",
      "source": [
        "Границя добутку дорівнює добутку границь"
      ],
      "metadata": {
        "id": "L8cmcOtLveTv"
      }
    },
    {
      "cell_type": "code",
      "source": [
        "Limit((n**2)**(1/n), n, oo).doit()"
      ],
      "metadata": {
        "colab": {
          "base_uri": "https://localhost:8080/",
          "height": 37
        },
        "id": "licmD9-sqgUm",
        "outputId": "9f0a88e7-00f5-4334-cfa2-73cf6b7ca3be"
      },
      "execution_count": null,
      "outputs": [
        {
          "output_type": "execute_result",
          "data": {
            "text/plain": [
              "1"
            ],
            "text/latex": "$\\displaystyle 1$"
          },
          "metadata": {},
          "execution_count": 25
        }
      ]
    },
    {
      "cell_type": "markdown",
      "source": [
        "Чому 1? Підказка: використання логарифма та правила Лопіталя"
      ],
      "metadata": {
        "id": "B47_kcF3u4_d"
      }
    },
    {
      "cell_type": "code",
      "source": [
        "Limit((2**(-n))**(1/n), n, oo)"
      ],
      "metadata": {
        "colab": {
          "base_uri": "https://localhost:8080/",
          "height": 51
        },
        "id": "y-0NWmTxrGHj",
        "outputId": "f9edf6e5-46d6-4c3a-90de-fccb3e33408d"
      },
      "execution_count": null,
      "outputs": [
        {
          "output_type": "execute_result",
          "data": {
            "text/plain": [
              "Limit(1/2, n, oo, dir='-')"
            ],
            "text/latex": "$\\displaystyle \\lim_{n \\to \\infty} \\frac{1}{2}$"
          },
          "metadata": {},
          "execution_count": 26
        }
      ]
    },
    {
      "cell_type": "code",
      "source": [
        "lim3c.doit()"
      ],
      "metadata": {
        "colab": {
          "base_uri": "https://localhost:8080/",
          "height": 51
        },
        "id": "Rd2okgTHqYLx",
        "outputId": "275532fc-f83b-4cb7-98cb-a2656509de08"
      },
      "execution_count": null,
      "outputs": [
        {
          "output_type": "execute_result",
          "data": {
            "text/plain": [
              "1/2"
            ],
            "text/latex": "$\\displaystyle \\frac{1}{2}$"
          },
          "metadata": {},
          "execution_count": 27
        }
      ]
    },
    {
      "cell_type": "markdown",
      "source": [
        "## Task 4"
      ],
      "metadata": {
        "id": "FmNftrQtwD5A"
      }
    },
    {
      "cell_type": "code",
      "source": [
        "series4 = Sum((n/(n+1))**(n**2), (n, 1, oo))\n",
        "series4"
      ],
      "metadata": {
        "colab": {
          "base_uri": "https://localhost:8080/",
          "height": 69
        },
        "id": "etB5Z1v9wJWm",
        "outputId": "ca2c591f-2727-4735-fe70-3052b943133d"
      },
      "execution_count": null,
      "outputs": [
        {
          "output_type": "execute_result",
          "data": {
            "text/plain": [
              "Sum((n/(n + 1))**(n**2), (n, 1, oo))"
            ],
            "text/latex": "$\\displaystyle \\sum_{n=1}^{\\infty} \\left(\\frac{n}{n + 1}\\right)^{n^{2}}$"
          },
          "metadata": {},
          "execution_count": 28
        }
      ]
    },
    {
      "cell_type": "code",
      "source": [
        "series4.is_convergent()"
      ],
      "metadata": {
        "colab": {
          "base_uri": "https://localhost:8080/",
          "height": 37
        },
        "id": "O142ZYaCwqcQ",
        "outputId": "e43a11f9-fa37-4d56-ffe0-88b9383ad0c0"
      },
      "execution_count": null,
      "outputs": [
        {
          "output_type": "execute_result",
          "data": {
            "text/plain": [
              "True"
            ],
            "text/latex": "$\\displaystyle \\text{True}$"
          },
          "metadata": {},
          "execution_count": 29
        }
      ]
    },
    {
      "cell_type": "markdown",
      "source": [
        "### Даламбер"
      ],
      "metadata": {
        "id": "LAT2Tlfi0DYI"
      }
    },
    {
      "cell_type": "code",
      "source": [
        "lim4d = Limit((((n+1)/(n+2))**((n+1)**2))/((n/(n+1))**(n**2)), n, oo)\n",
        "lim4d"
      ],
      "metadata": {
        "colab": {
          "base_uri": "https://localhost:8080/",
          "height": 69
        },
        "id": "56tqWY5b0LLS",
        "outputId": "c531059b-9f4a-436e-c672-e1e4dcac71cb"
      },
      "execution_count": null,
      "outputs": [
        {
          "output_type": "execute_result",
          "data": {
            "text/plain": [
              "Limit(((n + 1)/(n + 2))**((n + 1)**2)/(n/(n + 1))**(n**2), n, oo, dir='-')"
            ],
            "text/latex": "$\\displaystyle \\lim_{n \\to \\infty}\\left(\\left(\\frac{n}{n + 1}\\right)^{- n^{2}} \\left(\\frac{n + 1}{n + 2}\\right)^{\\left(n + 1\\right)^{2}}\\right)$"
          },
          "metadata": {},
          "execution_count": 30
        }
      ]
    },
    {
      "cell_type": "code",
      "source": [
        "(((n+1)/(n+2))**((n+1)**2))/((n/(n+1))**(n**2)).simplify()"
      ],
      "metadata": {
        "colab": {
          "base_uri": "https://localhost:8080/",
          "height": 64
        },
        "id": "u9b1jAEh1KIz",
        "outputId": "79c55db5-ec28-4eac-cce1-665ad66743ab"
      },
      "execution_count": null,
      "outputs": [
        {
          "output_type": "execute_result",
          "data": {
            "text/plain": [
              "((n + 1)/(n + 2))**((n + 1)**2)/(n/(n + 1))**(n**2)"
            ],
            "text/latex": "$\\displaystyle \\left(\\frac{n}{n + 1}\\right)^{- n^{2}} \\left(\\frac{n + 1}{n + 2}\\right)^{\\left(n + 1\\right)^{2}}$"
          },
          "metadata": {},
          "execution_count": 31
        }
      ]
    },
    {
      "cell_type": "markdown",
      "source": [
        "Підказка: зробити вираз у вигляді добутку та обчислювати кожну границю окремо"
      ],
      "metadata": {
        "id": "ycWCplk48ulW"
      }
    },
    {
      "cell_type": "code",
      "source": [
        "lim4d.doit()"
      ],
      "metadata": {
        "colab": {
          "base_uri": "https://localhost:8080/",
          "height": 38
        },
        "id": "Kf5o1e141y8h",
        "outputId": "be435b55-cd3f-4ade-a389-1b90ad031fac"
      },
      "execution_count": null,
      "outputs": [
        {
          "output_type": "execute_result",
          "data": {
            "text/plain": [
              "exp(-1)"
            ],
            "text/latex": "$\\displaystyle e^{-1}$"
          },
          "metadata": {},
          "execution_count": 32
        }
      ]
    },
    {
      "cell_type": "markdown",
      "source": [
        "### Коші"
      ],
      "metadata": {
        "id": "kg2o6iEZ4Gy6"
      }
    },
    {
      "cell_type": "code",
      "source": [
        "lim4c = Limit(((n/(n+1))**(n**2))**(1/n), n, oo)\n",
        "lim4c"
      ],
      "metadata": {
        "colab": {
          "base_uri": "https://localhost:8080/",
          "height": 75
        },
        "id": "MUflOuJ94ElN",
        "outputId": "048f1849-db2a-4728-9ffc-2ac0f7b12d63"
      },
      "execution_count": null,
      "outputs": [
        {
          "output_type": "execute_result",
          "data": {
            "text/plain": [
              "Limit(((n/(n + 1))**(n**2))**(1/n), n, oo, dir='-')"
            ],
            "text/latex": "$\\displaystyle \\lim_{n \\to \\infty} \\left(\\left(\\frac{n}{n + 1}\\right)^{n^{2}}\\right)^{\\frac{1}{n}}$"
          },
          "metadata": {},
          "execution_count": 33
        }
      ]
    },
    {
      "cell_type": "markdown",
      "source": [
        "Спрощується до"
      ],
      "metadata": {
        "id": "qEREgmj26_fY"
      }
    },
    {
      "cell_type": "code",
      "source": [
        "lim4c = Limit(((n/(n+1))**n), n, oo)\n",
        "lim4c"
      ],
      "metadata": {
        "colab": {
          "base_uri": "https://localhost:8080/",
          "height": 59
        },
        "id": "G4nxN_FU6kzK",
        "outputId": "f8c365b3-5d3c-40fe-e381-91c46be613f2"
      },
      "execution_count": null,
      "outputs": [
        {
          "output_type": "execute_result",
          "data": {
            "text/plain": [
              "Limit((n/(n + 1))**n, n, oo, dir='-')"
            ],
            "text/latex": "$\\displaystyle \\lim_{n \\to \\infty} \\left(\\frac{n}{n + 1}\\right)^{n}$"
          },
          "metadata": {},
          "execution_count": 34
        }
      ]
    },
    {
      "cell_type": "markdown",
      "source": [
        "Підказка: застосування другої чудової границі"
      ],
      "metadata": {
        "id": "sK9-_y3R8An-"
      }
    },
    {
      "cell_type": "code",
      "source": [
        "lim4c.doit()"
      ],
      "metadata": {
        "colab": {
          "base_uri": "https://localhost:8080/",
          "height": 38
        },
        "id": "20I5D5465PL7",
        "outputId": "dcd17cc9-9561-436d-d00b-a69b42f0b306"
      },
      "execution_count": null,
      "outputs": [
        {
          "output_type": "execute_result",
          "data": {
            "text/plain": [
              "exp(-1)"
            ],
            "text/latex": "$\\displaystyle e^{-1}$"
          },
          "metadata": {},
          "execution_count": 35
        }
      ]
    },
    {
      "cell_type": "markdown",
      "source": [
        "## Task 5"
      ],
      "metadata": {
        "id": "VheGtVw58Rn4"
      }
    },
    {
      "cell_type": "code",
      "source": [
        "series5 = Sum(((-1)**(n-1))/(n**2), (n, 1, oo))\n",
        "series5"
      ],
      "metadata": {
        "colab": {
          "base_uri": "https://localhost:8080/",
          "height": 66
        },
        "id": "hZlTFfK78XBL",
        "outputId": "5a5d93dc-3ea9-43e6-b577-2d9d84ed0a35"
      },
      "execution_count": null,
      "outputs": [
        {
          "output_type": "execute_result",
          "data": {
            "text/plain": [
              "Sum((-1)**(n - 1)/n**2, (n, 1, oo))"
            ],
            "text/latex": "$\\displaystyle \\sum_{n=1}^{\\infty} \\frac{\\left(-1\\right)^{n - 1}}{n^{2}}$"
          },
          "metadata": {},
          "execution_count": 36
        }
      ]
    },
    {
      "cell_type": "code",
      "source": [
        "series5.is_convergent()"
      ],
      "metadata": {
        "colab": {
          "base_uri": "https://localhost:8080/",
          "height": 37
        },
        "id": "VMMfG-qa97r7",
        "outputId": "5e21e9d2-5a5a-4dca-a523-24a98e5dd6a4"
      },
      "execution_count": null,
      "outputs": [
        {
          "output_type": "execute_result",
          "data": {
            "text/plain": [
              "True"
            ],
            "text/latex": "$\\displaystyle \\text{True}$"
          },
          "metadata": {},
          "execution_count": 37
        }
      ]
    },
    {
      "cell_type": "code",
      "source": [
        "series5.is_absolutely_convergent()"
      ],
      "metadata": {
        "colab": {
          "base_uri": "https://localhost:8080/",
          "height": 37
        },
        "id": "REauUkM9-Drl",
        "outputId": "24d2c1e6-902c-4d30-e7a2-8ff78f43fd69"
      },
      "execution_count": null,
      "outputs": [
        {
          "output_type": "execute_result",
          "data": {
            "text/plain": [
              "True"
            ],
            "text/latex": "$\\displaystyle \\text{True}$"
          },
          "metadata": {},
          "execution_count": 38
        }
      ]
    },
    {
      "cell_type": "markdown",
      "source": [
        "### Лейбніц"
      ],
      "metadata": {
        "id": "mV9Mitob_e2-"
      }
    },
    {
      "cell_type": "code",
      "source": [
        "Limit((1/(n**2)), n, oo). doit()"
      ],
      "metadata": {
        "colab": {
          "base_uri": "https://localhost:8080/",
          "height": 37
        },
        "id": "rRg0bEzc_sTC",
        "outputId": "c14da39a-bf45-4e43-cc34-914ccce740d1"
      },
      "execution_count": null,
      "outputs": [
        {
          "output_type": "execute_result",
          "data": {
            "text/plain": [
              "0"
            ],
            "text/latex": "$\\displaystyle 0$"
          },
          "metadata": {},
          "execution_count": 39
        }
      ]
    },
    {
      "cell_type": "markdown",
      "source": [
        "1. $\\frac{1}{n^2}$ - спадна послідовність\n",
        "2. $\\lim_{n\\to\\infty}\\frac{1}{n^2}  = 0$"
      ],
      "metadata": {
        "id": "54F1gZWn-Obj"
      }
    },
    {
      "cell_type": "code",
      "source": [
        "series5a = Sum(Abs(((-1)**(n-1))/(n**2)), (n, 1, oo))\n",
        "series5a"
      ],
      "metadata": {
        "colab": {
          "base_uri": "https://localhost:8080/",
          "height": 66
        },
        "id": "7grhPLTd-rDg",
        "outputId": "b4e442cc-86da-4013-c2e6-ce773be32f9c"
      },
      "execution_count": null,
      "outputs": [
        {
          "output_type": "execute_result",
          "data": {
            "text/plain": [
              "Sum(Abs(n**(-2)), (n, 1, oo))"
            ],
            "text/latex": "$\\displaystyle \\sum_{n=1}^{\\infty} \\left|{\\frac{1}{n^{2}}}\\right|$"
          },
          "metadata": {},
          "execution_count": 40
        }
      ]
    },
    {
      "cell_type": "markdown",
      "source": [
        "Гармонічний ряд, де p = 2 > 1 - збігається"
      ],
      "metadata": {
        "id": "wYShPyB4Maoh"
      }
    },
    {
      "cell_type": "code",
      "source": [
        "series5a.doit()"
      ],
      "metadata": {
        "colab": {
          "base_uri": "https://localhost:8080/",
          "height": 54
        },
        "id": "dp-7thi4I__N",
        "outputId": "50903e0e-20a2-4619-efce-94bc44d069df"
      },
      "execution_count": null,
      "outputs": [
        {
          "output_type": "execute_result",
          "data": {
            "text/plain": [
              "pi**2/6"
            ],
            "text/latex": "$\\displaystyle \\frac{\\pi^{2}}{6}$"
          },
          "metadata": {},
          "execution_count": 41
        }
      ]
    },
    {
      "cell_type": "code",
      "source": [
        "series5.doit()"
      ],
      "metadata": {
        "colab": {
          "base_uri": "https://localhost:8080/",
          "height": 54
        },
        "id": "f_V55mpGM0_4",
        "outputId": "cf407585-780d-4c4b-dbf9-0c21b4ad8f34"
      },
      "execution_count": null,
      "outputs": [
        {
          "output_type": "execute_result",
          "data": {
            "text/plain": [
              "pi**2/12"
            ],
            "text/latex": "$\\displaystyle \\frac{\\pi^{2}}{12}$"
          },
          "metadata": {},
          "execution_count": 42
        }
      ]
    },
    {
      "cell_type": "markdown",
      "source": [
        "## Задачі на перевірку"
      ],
      "metadata": {
        "id": "qThOosD9TAhs"
      }
    },
    {
      "cell_type": "markdown",
      "source": [
        "В наступних (1-3) задачах треба:\n",
        "\n",
        "* знайти суму $n$ перших членів ряду ($S_n$)\n",
        "* визначити збіжність ряду, користуючись тільки визначенням збіжності\n",
        "* знайти суму ряду ($S$)\n"
      ],
      "metadata": {
        "id": "ioAJxGgrVhf6"
      }
    },
    {
      "cell_type": "markdown",
      "source": [
        "### Задача 1"
      ],
      "metadata": {
        "id": "4aZEMk-Z5SAz"
      }
    },
    {
      "cell_type": "code",
      "source": [
        "Sum(1/((2*n-1)*(2*n+1)), (n, 1, oo))"
      ],
      "metadata": {
        "colab": {
          "base_uri": "https://localhost:8080/",
          "height": 66
        },
        "id": "rXauTP8PWinH",
        "outputId": "340cdb24-f53e-46bd-a98f-b16992df867d"
      },
      "execution_count": null,
      "outputs": [
        {
          "output_type": "execute_result",
          "data": {
            "text/plain": [
              "Sum(1/((2*n - 1)*(2*n + 1)), (n, 1, oo))"
            ],
            "text/latex": "$\\displaystyle \\sum_{n=1}^{\\infty} \\frac{1}{\\left(2 n - 1\\right) \\left(2 n + 1\\right)}$"
          },
          "metadata": {},
          "execution_count": 58
        }
      ]
    },
    {
      "cell_type": "markdown",
      "source": [
        "### Задача 2"
      ],
      "metadata": {
        "id": "jbif8K1u7g4_"
      }
    },
    {
      "cell_type": "code",
      "source": [
        "Sum(1/(n*(n+3)), (n, 1, oo))"
      ],
      "metadata": {
        "colab": {
          "base_uri": "https://localhost:8080/",
          "height": 66
        },
        "id": "uS3JWzFq85Zp",
        "outputId": "0d599a67-c165-49bd-97ab-a86b80712e84"
      },
      "execution_count": null,
      "outputs": [
        {
          "output_type": "execute_result",
          "data": {
            "text/plain": [
              "Sum(1/(n*(n + 3)), (n, 1, oo))"
            ],
            "text/latex": "$\\displaystyle \\sum_{n=1}^{\\infty} \\frac{1}{n \\left(n + 3\\right)}$"
          },
          "metadata": {},
          "execution_count": 97
        }
      ]
    },
    {
      "cell_type": "markdown",
      "source": [
        "### Задача 3"
      ],
      "metadata": {
        "id": "yUWqE0LE7inH"
      }
    },
    {
      "cell_type": "code",
      "source": [
        "Sum(1/(n*(n+1)*(n+2)), (n, 1, oo))"
      ],
      "metadata": {
        "colab": {
          "base_uri": "https://localhost:8080/",
          "height": 66
        },
        "id": "NquKwgP67kjk",
        "outputId": "949ba690-ebac-4808-ff7b-61c14242615a"
      },
      "execution_count": null,
      "outputs": [
        {
          "output_type": "execute_result",
          "data": {
            "text/plain": [
              "Sum(1/(n*(n + 1)*(n + 2)), (n, 1, oo))"
            ],
            "text/latex": "$\\displaystyle \\sum_{n=1}^{\\infty} \\frac{1}{n \\left(n + 1\\right) \\left(n + 2\\right)}$"
          },
          "metadata": {},
          "execution_count": 100
        }
      ]
    },
    {
      "cell_type": "markdown",
      "source": [
        "### Приклад 1"
      ],
      "metadata": {
        "id": "iMjvkusJWSYR"
      }
    },
    {
      "cell_type": "code",
      "source": [
        "Sn, S, k, A, B  = symbols(\"S_n S k A B\")"
      ],
      "metadata": {
        "id": "kTuLhgRNejIO"
      },
      "execution_count": null,
      "outputs": []
    },
    {
      "cell_type": "markdown",
      "source": [
        "Ряд"
      ],
      "metadata": {
        "id": "9WWZhwSgquLV"
      }
    },
    {
      "cell_type": "code",
      "source": [
        "a_n = 1/(n*(n+1))\n",
        "ser = Sum(a_n, (n, 1, oo))\n",
        "ser"
      ],
      "metadata": {
        "colab": {
          "base_uri": "https://localhost:8080/",
          "height": 66
        },
        "id": "uUVwECXmYngH",
        "outputId": "5f009933-7091-41da-e0b3-3d7a660386ff"
      },
      "execution_count": null,
      "outputs": [
        {
          "output_type": "execute_result",
          "data": {
            "text/plain": [
              "Sum(1/(n*(n + 1)), (n, 1, oo))"
            ],
            "text/latex": "$\\displaystyle \\sum_{n=1}^{\\infty} \\frac{1}{n \\left(n + 1\\right)}$"
          },
          "metadata": {},
          "execution_count": 94
        }
      ]
    },
    {
      "cell_type": "markdown",
      "source": [
        "#### Знаходимо суму $n$ перших членів ряду ($S_n$)"
      ],
      "metadata": {
        "id": "o1NQzTG7vZyA"
      }
    },
    {
      "cell_type": "markdown",
      "source": [
        "* Часткова сума $S_n$ це сума перших n членів ряду."
      ],
      "metadata": {
        "id": "Ce7Jk2Rfcpe5"
      }
    },
    {
      "cell_type": "code",
      "source": [
        "a_k = a_n.subs({n: k})\n",
        "Eq(Sn, Sum(a_k, (k, 1, n)))"
      ],
      "metadata": {
        "colab": {
          "base_uri": "https://localhost:8080/",
          "height": 67
        },
        "id": "ex6xczaGTQ07",
        "outputId": "43f12da9-3359-443e-830d-1d0e7d471dd7"
      },
      "execution_count": null,
      "outputs": [
        {
          "output_type": "execute_result",
          "data": {
            "text/plain": [
              "Eq(S_n, Sum(1/(k*(k + 1)), (k, 1, n)))"
            ],
            "text/latex": "$\\displaystyle S_{n} = \\sum_{k=1}^{n} \\frac{1}{k \\left(k + 1\\right)}$"
          },
          "metadata": {},
          "execution_count": 70
        }
      ]
    },
    {
      "cell_type": "markdown",
      "source": [
        "Ключ до розв'язання цього завдання — це розкладання загального члена ряду на суму простіших дробів.\n",
        "\n",
        "Розкладемо дріб $\\frac{1}{k(k+1)}$ на два простіші дроби:"
      ],
      "metadata": {
        "id": "j2l8G6Rffi2_"
      }
    },
    {
      "cell_type": "code",
      "source": [
        "Eq(a_k, A/k + B/(k+1))"
      ],
      "metadata": {
        "colab": {
          "base_uri": "https://localhost:8080/",
          "height": 56
        },
        "id": "UtCxCicofnFf",
        "outputId": "cec5be3e-f504-418d-ce5f-188a85e2fdb1"
      },
      "execution_count": null,
      "outputs": [
        {
          "output_type": "execute_result",
          "data": {
            "text/plain": [
              "Eq(1/(k*(k + 1)), A/k + B/(k + 1))"
            ],
            "text/latex": "$\\displaystyle \\frac{1}{k \\left(k + 1\\right)} = \\frac{A}{k} + \\frac{B}{k + 1}$"
          },
          "metadata": {},
          "execution_count": 71
        }
      ]
    },
    {
      "cell_type": "markdown",
      "source": [
        "Щоб знайти константи A і B, зведемо праву частину до спільного знаменника:"
      ],
      "metadata": {
        "id": "Z38dh3jQkW1d"
      }
    },
    {
      "cell_type": "code",
      "source": [
        "Eq((A*(k+1)+B*k)/(k*(k+1)), ((k*(A+B)+A)/(k*(k+1))))"
      ],
      "metadata": {
        "colab": {
          "base_uri": "https://localhost:8080/",
          "height": 57
        },
        "id": "7pWl0cKHkbQZ",
        "outputId": "3c83e065-1215-4ec1-a2ca-3933791c7b20"
      },
      "execution_count": null,
      "outputs": [
        {
          "output_type": "execute_result",
          "data": {
            "text/plain": [
              "Eq((A*(k + 1) + B*k)/(k*(k + 1)), (A + k*(A + B))/(k*(k + 1)))"
            ],
            "text/latex": "$\\displaystyle \\frac{A \\left(k + 1\\right) + B k}{k \\left(k + 1\\right)} = \\frac{A + k \\left(A + B\\right)}{k \\left(k + 1\\right)}$"
          },
          "metadata": {},
          "execution_count": 74
        }
      ]
    },
    {
      "cell_type": "markdown",
      "source": [
        "Порівнюючи чисельники, ми отримуємо систему рівнянь:\n",
        "\n",
        "* $A+B=0$ (коефіцієнт при k)\n",
        "* $A=1$ (вільний член)\n",
        "\n",
        "Звідси, $A=1$ і $B=−1$.\n",
        "\n",
        "Отже, загальний член ряду можна представити як:"
      ],
      "metadata": {
        "id": "SwQj9codpwsu"
      }
    },
    {
      "cell_type": "code",
      "source": [
        "a_k_2 = 1/k - 1/(k+1)\n",
        "Eq(a_k, a_k_2)"
      ],
      "metadata": {
        "colab": {
          "base_uri": "https://localhost:8080/",
          "height": 55
        },
        "id": "EtcwrLpgqFcw",
        "outputId": "6d726649-ea99-4b8a-ad03-930aede58f58"
      },
      "execution_count": null,
      "outputs": [
        {
          "output_type": "execute_result",
          "data": {
            "text/plain": [
              "Eq(1/(k*(k + 1)), -1/(k + 1) + 1/k)"
            ],
            "text/latex": "$\\displaystyle \\frac{1}{k \\left(k + 1\\right)} = - \\frac{1}{k + 1} + \\frac{1}{k}$"
          },
          "metadata": {},
          "execution_count": 76
        }
      ]
    },
    {
      "cell_type": "markdown",
      "source": [
        "Тепер підставимо цей розкладений вираз у формулу часткової суми $S_n$:"
      ],
      "metadata": {
        "id": "K8gHFLqlqp4D"
      }
    },
    {
      "cell_type": "code",
      "source": [
        "Eq(Sn, Sum(a_k_2, (k, 1, n)))"
      ],
      "metadata": {
        "colab": {
          "base_uri": "https://localhost:8080/",
          "height": 67
        },
        "id": "AbY8tA_1rIn_",
        "outputId": "07a0b0c1-d019-49d6-af19-4be177712f28"
      },
      "execution_count": null,
      "outputs": [
        {
          "output_type": "execute_result",
          "data": {
            "text/plain": [
              "Eq(S_n, Sum(-1/(k + 1) + 1/k, (k, 1, n)))"
            ],
            "text/latex": "$\\displaystyle S_{n} = \\sum_{k=1}^{n} \\left(- \\frac{1}{k + 1} + \\frac{1}{k}\\right)$"
          },
          "metadata": {},
          "execution_count": 77
        }
      ]
    },
    {
      "cell_type": "markdown",
      "source": [
        "Розпишемо суму і побачимо, що проміжні доданки скорочуються:\n",
        "\n",
        "$$S_n=(1-1/2)+(1/2-1/3)+(1/3-1/4)+...+(1/n-1/(n+1)) $$\n",
        "\n",
        "Залишаються лише перший і останній.\n"
      ],
      "metadata": {
        "id": "kBiSwp6DshFk"
      }
    },
    {
      "cell_type": "code",
      "source": [
        "S_n = 1-1/(n+1)\n",
        "Eq(Sn, S_n)"
      ],
      "metadata": {
        "colab": {
          "base_uri": "https://localhost:8080/",
          "height": 52
        },
        "id": "1hoG5wOHue71",
        "outputId": "aabe4ac4-0eab-425b-9a06-a284972ecbc5"
      },
      "execution_count": null,
      "outputs": [
        {
          "output_type": "execute_result",
          "data": {
            "text/plain": [
              "Eq(S_n, 1 - 1/(n + 1))"
            ],
            "text/latex": "$\\displaystyle S_{n} = 1 - \\frac{1}{n + 1}$"
          },
          "metadata": {},
          "execution_count": 79
        }
      ]
    },
    {
      "cell_type": "markdown",
      "source": [
        "#### Визначаємо збіжність ряду, користуючись тільки визначенням збіжності"
      ],
      "metadata": {
        "id": "0cYPX2-XxKPc"
      }
    },
    {
      "cell_type": "markdown",
      "source": [
        "Згідно з визначенням, ряд збігається, якщо послідовність його часткових сум має скінченну границю при $n\\to\\infty$. Знайдемо границю $S_n$."
      ],
      "metadata": {
        "id": "eepiyo-dxQJO"
      }
    },
    {
      "cell_type": "code",
      "source": [
        "lim_S_n = Limit(S_n, n, oo)\n",
        "Eq(Limit(Sn, n, oo) , lim_S_n)"
      ],
      "metadata": {
        "colab": {
          "base_uri": "https://localhost:8080/",
          "height": 58
        },
        "id": "9KucLmlkx9X7",
        "outputId": "7b31a97a-9d80-4977-915c-f5f010ac6328"
      },
      "execution_count": null,
      "outputs": [
        {
          "output_type": "execute_result",
          "data": {
            "text/plain": [
              "Eq(Limit(S_n, n, oo, dir='-'), Limit(1 - 1/(n + 1), n, oo, dir='-'))"
            ],
            "text/latex": "$\\displaystyle \\lim_{n \\to \\infty} S_{n} = \\lim_{n \\to \\infty}\\left(1 - \\frac{1}{n + 1}\\right)$"
          },
          "metadata": {},
          "execution_count": 87
        }
      ]
    },
    {
      "cell_type": "markdown",
      "source": [
        "Оскільки $\\lim_{n\\to\\infty}(\\frac{1}{n+1})=0$, то границя часткової суми дорівнює: $1-0 = 1$"
      ],
      "metadata": {
        "id": "TgIixMxizLeH"
      }
    },
    {
      "cell_type": "code",
      "source": [
        "lim_S_n.doit()"
      ],
      "metadata": {
        "colab": {
          "base_uri": "https://localhost:8080/",
          "height": 37
        },
        "id": "kKDrySLR0Kj-",
        "outputId": "8323e9fe-c9c8-466c-eae0-b3ad6ca62964"
      },
      "execution_count": null,
      "outputs": [
        {
          "output_type": "execute_result",
          "data": {
            "text/plain": [
              "1"
            ],
            "text/latex": "$\\displaystyle 1$"
          },
          "metadata": {},
          "execution_count": 85
        }
      ]
    },
    {
      "cell_type": "markdown",
      "source": [
        "Послідовність часткових сум $S_n$ має скінченну границю, яка дорівнює $1$, то за визначенням ряд збігається."
      ],
      "metadata": {
        "id": "B3r7Bx2E0UTY"
      }
    },
    {
      "cell_type": "markdown",
      "source": [
        "#### Знаходимо суму ряду ($S$)"
      ],
      "metadata": {
        "id": "LL4UDiIs1as2"
      }
    },
    {
      "cell_type": "markdown",
      "source": [
        "Якщо потрібно знайти суму всього ряду (при $n→∞$), ми обчислюємо границю часткової суми:"
      ],
      "metadata": {
        "id": "p5tIziws1znS"
      }
    },
    {
      "cell_type": "code",
      "source": [],
      "metadata": {
        "id": "eYlNnIbN2dOJ"
      },
      "execution_count": null,
      "outputs": []
    },
    {
      "cell_type": "code",
      "source": [
        "lim_S_n = Limit(S_n, n, oo)\n",
        "Eq(S, lim_S_n)"
      ],
      "metadata": {
        "colab": {
          "base_uri": "https://localhost:8080/",
          "height": 58
        },
        "outputId": "6cd7f5e1-b3b8-4659-9b5b-b2f24f24c470",
        "id": "xBuVM5bF2eO2"
      },
      "execution_count": null,
      "outputs": [
        {
          "output_type": "execute_result",
          "data": {
            "text/plain": [
              "Eq(S, Limit(1 - 1/(n + 1), n, oo, dir='-'))"
            ],
            "text/latex": "$\\displaystyle S = \\lim_{n \\to \\infty}\\left(1 - \\frac{1}{n + 1}\\right)$"
          },
          "metadata": {},
          "execution_count": 91
        }
      ]
    },
    {
      "cell_type": "markdown",
      "source": [
        "Оскільки limn→∞(1n+1)=0, то границя часткової суми дорівнює: 1−0=1.\n",
        "\n",
        "Таким чином, сума всього ряду дорівнює 1.\n",
        "\n",
        "Цей ряд є збіжним."
      ],
      "metadata": {
        "id": "a54O_fgv4Bjm"
      }
    },
    {
      "cell_type": "code",
      "source": [
        "ser.doit()"
      ],
      "metadata": {
        "colab": {
          "base_uri": "https://localhost:8080/",
          "height": 37
        },
        "id": "JtwEoi_S4tTz",
        "outputId": "0d8d2a89-799f-49c6-9f01-fe31428b2a3c"
      },
      "execution_count": null,
      "outputs": [
        {
          "output_type": "execute_result",
          "data": {
            "text/plain": [
              "1"
            ],
            "text/latex": "$\\displaystyle 1$"
          },
          "metadata": {},
          "execution_count": 93
        }
      ]
    }
  ]
}