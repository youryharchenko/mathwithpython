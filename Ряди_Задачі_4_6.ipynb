{
  "nbformat": 4,
  "nbformat_minor": 0,
  "metadata": {
    "colab": {
      "provenance": [],
      "toc_visible": true,
      "include_colab_link": true
    },
    "kernelspec": {
      "name": "python3",
      "display_name": "Python 3"
    },
    "language_info": {
      "name": "python"
    }
  },
  "cells": [
    {
      "cell_type": "markdown",
      "metadata": {
        "id": "view-in-github",
        "colab_type": "text"
      },
      "source": [
        "<a href=\"https://colab.research.google.com/github/youryharchenko/mathwithpython/blob/main/%D0%A0%D1%8F%D0%B4%D0%B8_%D0%97%D0%B0%D0%B4%D0%B0%D1%87%D1%96_4_6.ipynb\" target=\"_parent\"><img src=\"https://colab.research.google.com/assets/colab-badge.svg\" alt=\"Open In Colab\"/></a>"
      ]
    },
    {
      "cell_type": "code",
      "execution_count": null,
      "metadata": {
        "id": "FfBNxCrcI9Wl"
      },
      "outputs": [],
      "source": [
        "from sympy import Sum, symbols, oo, factorial, Limit, Abs, Eq"
      ]
    },
    {
      "cell_type": "code",
      "source": [
        "n,  an, bn, L  = symbols(\"n a_n b_n L\")"
      ],
      "metadata": {
        "id": "9gqA-RejCOxV"
      },
      "execution_count": null,
      "outputs": []
    },
    {
      "cell_type": "markdown",
      "source": [
        "## Задачі на перевірку"
      ],
      "metadata": {
        "id": "qThOosD9TAhs"
      }
    },
    {
      "cell_type": "markdown",
      "source": [
        "В наступних (4-6) задачах треба визначити збіжність за допомогою граничної ознаки порівняння."
      ],
      "metadata": {
        "id": "ioAJxGgrVhf6"
      }
    },
    {
      "cell_type": "markdown",
      "source": [
        "### Задача 4"
      ],
      "metadata": {
        "id": "4aZEMk-Z5SAz"
      }
    },
    {
      "cell_type": "code",
      "source": [
        "Sum((1+n)/(1+n**2), (n, 1, oo))"
      ],
      "metadata": {
        "colab": {
          "base_uri": "https://localhost:8080/",
          "height": 66
        },
        "id": "rXauTP8PWinH",
        "outputId": "7456c801-a7ee-4400-acc3-cce69b9ccc5e"
      },
      "execution_count": null,
      "outputs": [
        {
          "output_type": "execute_result",
          "data": {
            "text/plain": [
              "Sum((n + 1)/(n**2 + 1), (n, 1, oo))"
            ],
            "text/latex": "$\\displaystyle \\sum_{n=1}^{\\infty} \\frac{n + 1}{n^{2} + 1}$"
          },
          "metadata": {},
          "execution_count": 4
        }
      ]
    },
    {
      "cell_type": "markdown",
      "source": [
        "### Задача 5"
      ],
      "metadata": {
        "id": "jbif8K1u7g4_"
      }
    },
    {
      "cell_type": "code",
      "source": [
        "Sum(1/((n+1)*(n+4)), (n, 1, oo))"
      ],
      "metadata": {
        "colab": {
          "base_uri": "https://localhost:8080/",
          "height": 66
        },
        "id": "uS3JWzFq85Zp",
        "outputId": "77163aee-f0aa-4969-fe16-e34320a76416"
      },
      "execution_count": null,
      "outputs": [
        {
          "output_type": "execute_result",
          "data": {
            "text/plain": [
              "Sum(1/((n + 1)*(n + 4)), (n, 1, oo))"
            ],
            "text/latex": "$\\displaystyle \\sum_{n=1}^{\\infty} \\frac{1}{\\left(n + 1\\right) \\left(n + 4\\right)}$"
          },
          "metadata": {},
          "execution_count": 6
        }
      ]
    },
    {
      "cell_type": "markdown",
      "source": [
        "### Задача 6"
      ],
      "metadata": {
        "id": "yUWqE0LE7inH"
      }
    },
    {
      "cell_type": "code",
      "source": [
        "Sum((n+1)/(n*(n+2)), (n, 1, oo))"
      ],
      "metadata": {
        "colab": {
          "base_uri": "https://localhost:8080/",
          "height": 66
        },
        "id": "NquKwgP67kjk",
        "outputId": "afef06a1-220c-422d-cc09-80fa61979964"
      },
      "execution_count": null,
      "outputs": [
        {
          "output_type": "execute_result",
          "data": {
            "text/plain": [
              "Sum((n + 1)/(n*(n + 2)), (n, 1, oo))"
            ],
            "text/latex": "$\\displaystyle \\sum_{n=1}^{\\infty} \\frac{n + 1}{n \\left(n + 2\\right)}$"
          },
          "metadata": {},
          "execution_count": 7
        }
      ]
    },
    {
      "cell_type": "markdown",
      "source": [
        "### Приклад 2"
      ],
      "metadata": {
        "id": "iMjvkusJWSYR"
      }
    },
    {
      "cell_type": "markdown",
      "source": [
        "Ряд"
      ],
      "metadata": {
        "id": "9WWZhwSgquLV"
      }
    },
    {
      "cell_type": "code",
      "source": [
        "a_n = 1/(n**2+1)\n",
        "ser = Sum(a_n, (n, 1, oo))\n",
        "ser"
      ],
      "metadata": {
        "colab": {
          "base_uri": "https://localhost:8080/",
          "height": 66
        },
        "id": "uUVwECXmYngH",
        "outputId": "ead85e86-085a-4e88-c6f5-7045456082e8"
      },
      "execution_count": null,
      "outputs": [
        {
          "output_type": "execute_result",
          "data": {
            "text/plain": [
              "Sum(1/(n**2 + 1), (n, 1, oo))"
            ],
            "text/latex": "$\\displaystyle \\sum_{n=1}^{\\infty} \\frac{1}{n^{2} + 1}$"
          },
          "metadata": {},
          "execution_count": 12
        }
      ]
    },
    {
      "cell_type": "markdown",
      "source": [
        "#### Вибір еталонного ряду"
      ],
      "metadata": {
        "id": "o1NQzTG7vZyA"
      }
    },
    {
      "cell_type": "markdown",
      "source": [
        "Загальний член нашого ряду:"
      ],
      "metadata": {
        "id": "Ce7Jk2Rfcpe5"
      }
    },
    {
      "cell_type": "code",
      "source": [
        "Eq(an, a_n)"
      ],
      "metadata": {
        "colab": {
          "base_uri": "https://localhost:8080/",
          "height": 52
        },
        "id": "ex6xczaGTQ07",
        "outputId": "16736946-1052-4d6d-b8ac-642f91326ad2"
      },
      "execution_count": null,
      "outputs": [
        {
          "output_type": "execute_result",
          "data": {
            "text/plain": [
              "Eq(a_n, 1/(n**2 + 1))"
            ],
            "text/latex": "$\\displaystyle a_{n} = \\frac{1}{n^{2} + 1}$"
          },
          "metadata": {},
          "execution_count": 13
        }
      ]
    },
    {
      "cell_type": "markdown",
      "source": [
        "Для застосування граничної ознаки порівняння, ми обираємо простіший ряд $∑b_n$, збіжність якого нам відома. Для цього аналізуємо поведінку $a_n$ при великих значеннях $n$. У знаменнику $n^2+1$ домінуючим є член $n^2$, а константа 1 не суттєво впливає на загальну поведінку ряду.\n",
        "\n",
        "Отже, наш ряд поводиться як $1/n^2$.\n",
        "\n",
        "Ми вибираємо p-ряд $∑_{n\\to\\infty}b_n=∑_{n\\to\\infty}1/n^2$ як еталонний. Цей ряд є збіжним, оскільки його показник $p=2>1$."
      ],
      "metadata": {
        "id": "j2l8G6Rffi2_"
      }
    },
    {
      "cell_type": "markdown",
      "source": [
        "#### Застосування граничної ознаки порівняння"
      ],
      "metadata": {
        "id": "Z38dh3jQkW1d"
      }
    },
    {
      "cell_type": "markdown",
      "source": [
        "Обчислимо границю відношення $a_n$ до $b_n$:"
      ],
      "metadata": {
        "id": "SwQj9codpwsu"
      }
    },
    {
      "cell_type": "code",
      "source": [
        "b_n = 1/n**2\n",
        "Eq(Limit(an/bn, n, oo), Limit(a_n/b_n, n, oo))"
      ],
      "metadata": {
        "colab": {
          "base_uri": "https://localhost:8080/",
          "height": 58
        },
        "id": "EtcwrLpgqFcw",
        "outputId": "fa8f0225-2791-4928-dc87-f207d3dcfa3a"
      },
      "execution_count": null,
      "outputs": [
        {
          "output_type": "execute_result",
          "data": {
            "text/plain": [
              "Eq(Limit(a_n/b_n, n, oo, dir='-'), Limit(n**2/(n**2 + 1), n, oo, dir='-'))"
            ],
            "text/latex": "$\\displaystyle \\lim_{n \\to \\infty}\\left(\\frac{a_{n}}{b_{n}}\\right) = \\lim_{n \\to \\infty}\\left(\\frac{n^{2}}{n^{2} + 1}\\right)$"
          },
          "metadata": {},
          "execution_count": 16
        }
      ]
    },
    {
      "cell_type": "markdown",
      "source": [
        "Щоб знайти границю, поділимо чисельник і знаменник на найвищу степінь $n$, тобто на $n^2$:"
      ],
      "metadata": {
        "id": "K8gHFLqlqp4D"
      }
    },
    {
      "cell_type": "code",
      "source": [
        "Eq(L, Limit(1/(1+(1/n**2)), n, oo))"
      ],
      "metadata": {
        "colab": {
          "base_uri": "https://localhost:8080/",
          "height": 58
        },
        "id": "AbY8tA_1rIn_",
        "outputId": "0d22e0a7-fa38-4e37-ce67-67c3c6226c23"
      },
      "execution_count": null,
      "outputs": [
        {
          "output_type": "execute_result",
          "data": {
            "text/plain": [
              "Eq(L, Limit(1/(1 + n**(-2)), n, oo, dir='-'))"
            ],
            "text/latex": "$\\displaystyle L = \\lim_{n \\to \\infty} \\frac{1}{1 + \\frac{1}{n^{2}}}$"
          },
          "metadata": {},
          "execution_count": 21
        }
      ]
    },
    {
      "cell_type": "markdown",
      "source": [
        "При $n\\to\\infty$, вираз $1/n^2$ прямує до нуля. Отже: $L = \\frac{1}{1+0}=1$"
      ],
      "metadata": {
        "id": "kBiSwp6DshFk"
      }
    },
    {
      "cell_type": "markdown",
      "source": [
        "#### Висновок"
      ],
      "metadata": {
        "id": "0cYPX2-XxKPc"
      }
    },
    {
      "cell_type": "markdown",
      "source": [
        "Оскільки границя $L=1$ є скінченним і ненульовим числом, то, згідно з граничною ознакою порівняння, обидва ряди мають однакову поведінку.\n",
        "\n",
        "Оскільки еталонний ряд збігається, то і заданий ряд також збігається."
      ],
      "metadata": {
        "id": "eepiyo-dxQJO"
      }
    },
    {
      "cell_type": "code",
      "source": [
        "# спитаємо у SymPy чи ряд збігається\n",
        "ser.is_convergent()"
      ],
      "metadata": {
        "colab": {
          "base_uri": "https://localhost:8080/",
          "height": 37
        },
        "id": "JtwEoi_S4tTz",
        "outputId": "e7b6c4e2-62be-46d1-c579-da4d74ec6e75"
      },
      "execution_count": null,
      "outputs": [
        {
          "output_type": "execute_result",
          "data": {
            "text/plain": [
              "True"
            ],
            "text/latex": "$\\displaystyle \\text{True}$"
          },
          "metadata": {},
          "execution_count": 24
        }
      ]
    }
  ]
}